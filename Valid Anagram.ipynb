{
 "cells": [
  {
   "cell_type": "markdown",
   "id": "3b784da9",
   "metadata": {},
   "source": [
    "# Valid Anagram\n",
    "\n",
    "Given two strings s and t, return true if t is an anagram of s, and false otherwise. \n",
    "\n",
    "Leetcode.com gives some examples so we'll use them as unit tests. Some contraints are given ss well but we'll see if we need them."
   ]
  },
  {
   "cell_type": "markdown",
   "id": "bd73daaf",
   "metadata": {},
   "source": [
    "## Learning objective\n",
    "\n",
    "Use the boilerplate from Contains Duplicate and start to expand boilerplate to what is important. \n",
    "\n",
    "### Setup a function ... \n",
    "\n"
   ]
  },
  {
   "cell_type": "code",
   "execution_count": 30,
   "id": "6cb7e325",
   "metadata": {},
   "outputs": [],
   "source": [
    "def isAnagram(s: str, t: str) -> bool:\n",
    "    if len(s) != len(t):\n",
    "        return False\n",
    "    \n",
    "    x = [n for n in t]\n",
    "    \n",
    "    for i in s:\n",
    "        if i in x:\n",
    "            x.remove(i)\n",
    "        else:\n",
    "            return False\n",
    "    return True"
   ]
  },
  {
   "cell_type": "code",
   "execution_count": 31,
   "id": "d72db1db",
   "metadata": {},
   "outputs": [
    {
     "name": "stderr",
     "output_type": "stream",
     "text": [
      "testExample1 (__main__.TestContainsDuplicate) ... ok\n",
      "testExample2 (__main__.TestContainsDuplicate) ... ok\n",
      "testExample3 (__main__.TestContainsDuplicate) ... ok\n",
      "testExample4 (__main__.TestContainsDuplicate) ... ok\n",
      "testExample5 (__main__.TestContainsDuplicate) ... ok\n",
      "testExample6 (__main__.TestContainsDuplicate) ... ok\n",
      "\n",
      "----------------------------------------------------------------------\n",
      "Ran 6 tests in 0.003s\n",
      "\n",
      "OK\n"
     ]
    },
    {
     "data": {
      "text/plain": [
       "<unittest.main.TestProgram at 0x105d6fe80>"
      ]
     },
     "execution_count": 31,
     "metadata": {},
     "output_type": "execute_result"
    }
   ],
   "source": [
    "import unittest\n",
    "\n",
    "class TestContainsDuplicate(unittest.TestCase):\n",
    "\n",
    "    def testExample1(self):\n",
    "        s = 'anagram'\n",
    "        t = 'nagaram'\n",
    "        self.assertEqual(isAnagram(s, t), True)\n",
    "\n",
    "    def testExample2(self):\n",
    "        s = 'rat'\n",
    "        t = 'car'\n",
    "        self.assertEqual(isAnagram(s, t), False)\n",
    "        \n",
    "    def testExample3(self):\n",
    "        s = 'abbb'\n",
    "        t = 'bbba'\n",
    "        self.assertEqual(isAnagram(s, t), True)\n",
    "        \n",
    "    def testExample4(self):\n",
    "        s = 'abbb'\n",
    "        t = 'bbaa'\n",
    "        self.assertEqual(isAnagram(s, t), False)\n",
    "        \n",
    "    def testExample5(self):\n",
    "        s = 'abbbbb'\n",
    "        t = 'bbaa'\n",
    "        self.assertEqual(isAnagram(s, t), False)\n",
    "        \n",
    "    def testExample6(self):\n",
    "        s = 'abbbbb'\n",
    "        t = 'bbaaaabbb'\n",
    "        self.assertEqual(isAnagram(s, t), False)\n",
    "\n",
    "unittest.main(argv=[''], verbosity=2, exit=False)"
   ]
  },
  {
   "cell_type": "code",
   "execution_count": 32,
   "id": "29017f91",
   "metadata": {},
   "outputs": [
    {
     "name": "stdout",
     "output_type": "stream",
     "text": [
      "677 ns ± 0.908 ns per loop (mean ± std. dev. of 7 runs, 1,000,000 loops each)\n"
     ]
    }
   ],
   "source": [
    "%%timeit\n",
    "b = isAnagram('anagram', 'nagaram')"
   ]
  },
  {
   "cell_type": "markdown",
   "id": "8dfbaac4",
   "metadata": {},
   "source": [
    "Now let's compare this to the neetcode.io solution."
   ]
  },
  {
   "cell_type": "code",
   "execution_count": 21,
   "id": "cdccf683",
   "metadata": {},
   "outputs": [],
   "source": [
    "def iA_neet(s: str, t: str) -> bool:\n",
    "    if len(s) != len(t):\n",
    "        return False\n",
    "           \n",
    "    countS, countT = {}, {}\n",
    "    \n",
    "    for i in range(len(s)):\n",
    "        countS[s[i]] = 1 + countS.get(s[i], 0)\n",
    "        countT[t[i]] = 1 + countT.get(t[i], 0)\n",
    "    return countS == countT"
   ]
  },
  {
   "cell_type": "code",
   "execution_count": 22,
   "id": "5a9dbafd",
   "metadata": {},
   "outputs": [
    {
     "name": "stdout",
     "output_type": "stream",
     "text": [
      "1.34 µs ± 7.96 ns per loop (mean ± std. dev. of 7 runs, 1,000,000 loops each)\n"
     ]
    }
   ],
   "source": [
    "%%timeit\n",
    "b = iA_neet('anagram', 'nagaram')"
   ]
  },
  {
   "cell_type": "markdown",
   "id": "cb4fafca",
   "metadata": {},
   "source": [
    "So in this one use case, my code was faster.  How was the neetcode.io cod better? \n",
    "\n",
    "First and most obvious ... the check to see if the strings were the same length.  This will save a lot of time in use cases where the two strings are not the same length.  And infact exposed a problem with my code.  My code was improved by adding this.\n",
    "\n",
    "I still like my solution, but it's probably true that the neetcode.io solution is more general and will probably have more applications.  \n",
    "\n",
    "## Learning outcomes: \n",
    "\n",
    "First, think of more unit tests before starting to code.  Here, different length strings inputs escaped me entirely. \n",
    "\n",
    "Second, remove out of scope inputs immediately, with a simple test.  \n",
    "\n",
    "Third, having seen it used, I like the idea of the dictionary == evaluation.  Neet. "
   ]
  },
  {
   "cell_type": "code",
   "execution_count": null,
   "id": "70c80611",
   "metadata": {},
   "outputs": [],
   "source": []
  }
 ],
 "metadata": {
  "kernelspec": {
   "display_name": "Python 3 (ipykernel)",
   "language": "python",
   "name": "python3"
  },
  "language_info": {
   "codemirror_mode": {
    "name": "ipython",
    "version": 3
   },
   "file_extension": ".py",
   "mimetype": "text/x-python",
   "name": "python",
   "nbconvert_exporter": "python",
   "pygments_lexer": "ipython3",
   "version": "3.9.6"
  }
 },
 "nbformat": 4,
 "nbformat_minor": 5
}
