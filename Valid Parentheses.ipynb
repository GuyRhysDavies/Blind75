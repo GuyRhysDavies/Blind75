{
 "cells": [
  {
   "cell_type": "markdown",
   "id": "630943ec",
   "metadata": {},
   "source": [
    "# Valid Parentheses\n",
    "\n",
    "Given a string s containing just the chars (){}[] determine if the input string is valid. \n",
    "\n",
    "The input string is valid if: \n",
    "\n",
    "1. open brackets must be closed by the same type of brackets\n",
    "2. open brackets must be closed in the correct order\n",
    "3. every close bracket has a corresponding open bracket of the same type\n",
    "\n",
    "## Learning objectives\n",
    "\n",
    "So far I have missed the point.  It's okay, as I'm slowly figuring this out. Here, I should use the heading from the neetcode.io problem as a starting point (which I have not been doing so far).  So I should use a stack!"
   ]
  },
  {
   "cell_type": "code",
   "execution_count": 29,
   "id": "36db788e",
   "metadata": {},
   "outputs": [],
   "source": [
    "class Solution:\n",
    "    def isValid(self, s: str) -> bool:\n",
    "        p, b, q = [], [], []\n",
    "        for idx, char in enumerate(s):\n",
    "            if char == '(':\n",
    "                p.append(idx)\n",
    "            if char == ')':\n",
    "                if p == []: \n",
    "                    return False\n",
    "                p.pop()\n",
    "\n",
    "            if char == '{':\n",
    "                b.append(idx)\n",
    "            if char == '}':\n",
    "                if b == []: \n",
    "                    return False\n",
    "                b.pop()\n",
    "            \n",
    "            if char == '[':\n",
    "                q.append(idx)\n",
    "            if char == ']':\n",
    "                if q == []: \n",
    "                    return False\n",
    "                q.pop()\n",
    "                \n",
    "        return p == b == q == []"
   ]
  },
  {
   "cell_type": "code",
   "execution_count": 30,
   "id": "daa67864",
   "metadata": {},
   "outputs": [
    {
     "data": {
      "text/plain": [
       "True"
      ]
     },
     "execution_count": 30,
     "metadata": {},
     "output_type": "execute_result"
    }
   ],
   "source": [
    "sol = Solution()\n",
    "sol.isValid('(){}[]')\n"
   ]
  },
  {
   "cell_type": "code",
   "execution_count": 31,
   "id": "9cf3ae81",
   "metadata": {},
   "outputs": [
    {
     "name": "stderr",
     "output_type": "stream",
     "text": [
      "testExample1 (__main__.TestMAxProfit) ... ok\n",
      "testExample2 (__main__.TestMAxProfit) ... ok\n",
      "testExample3 (__main__.TestMAxProfit) ... ok\n",
      "testExample4 (__main__.TestMAxProfit) ... ok\n",
      "\n",
      "----------------------------------------------------------------------\n",
      "Ran 4 tests in 0.003s\n",
      "\n",
      "OK\n"
     ]
    },
    {
     "data": {
      "text/plain": [
       "<unittest.main.TestProgram at 0x103e9a610>"
      ]
     },
     "execution_count": 31,
     "metadata": {},
     "output_type": "execute_result"
    }
   ],
   "source": [
    "import unittest\n",
    "\n",
    "class TestMAxProfit(unittest.TestCase):\n",
    "\n",
    "    def testExample1(self):\n",
    "        s = '()'\n",
    "        self.assertEqual(func(s), True)\n",
    "\n",
    "    def testExample2(self):\n",
    "        s = '()[]{}'\n",
    "        self.assertEqual(func(s), True)\n",
    "        \n",
    "    def testExample3(self):\n",
    "        s = '(]'\n",
    "        self.assertEqual(func(s), False)\n",
    "        \n",
    "    def testExample4(self):\n",
    "        s = ')('\n",
    "        self.assertEqual(func(s), False)\n",
    "        \n",
    "        \n",
    "sol = Solution()\n",
    "func = sol.isValid\n",
    "unittest.main(argv=[''], verbosity=2, exit=False)"
   ]
  },
  {
   "cell_type": "markdown",
   "id": "2bd4c8d0",
   "metadata": {},
   "source": [
    "Now let's compare this to the neetcode.io solution."
   ]
  },
  {
   "cell_type": "code",
   "execution_count": 32,
   "id": "56db7881",
   "metadata": {},
   "outputs": [],
   "source": [
    "class Neet:\n",
    "    def isValid(self, s: str) -> bool:\n",
    "        Map = {')': '(', '}': '{', ']': '['}\n",
    "        stack = []\n",
    "        \n",
    "        for c in s:\n",
    "            if c not in Map:\n",
    "                stack.append(c)\n",
    "                continue\n",
    "            if not stack or stack[-1] != Map[c]:\n",
    "                return False\n",
    "            stack.pop()\n",
    "            \n",
    "        return not stack"
   ]
  },
  {
   "cell_type": "code",
   "execution_count": 33,
   "id": "539a29f4",
   "metadata": {},
   "outputs": [
    {
     "name": "stderr",
     "output_type": "stream",
     "text": [
      "testExample1 (__main__.TestMAxProfit) ... ok\n",
      "testExample2 (__main__.TestMAxProfit) ... ok\n",
      "testExample3 (__main__.TestMAxProfit) ... ok\n",
      "testExample4 (__main__.TestMAxProfit) ... ok\n",
      "\n",
      "----------------------------------------------------------------------\n",
      "Ran 4 tests in 0.003s\n",
      "\n",
      "OK\n"
     ]
    },
    {
     "data": {
      "text/plain": [
       "<unittest.main.TestProgram at 0x103e9a880>"
      ]
     },
     "execution_count": 33,
     "metadata": {},
     "output_type": "execute_result"
    }
   ],
   "source": [
    "sol = Neet()\n",
    "func = sol.isValid\n",
    "unittest.main(argv=[''], verbosity=2, exit=False)"
   ]
  },
  {
   "cell_type": "code",
   "execution_count": 36,
   "id": "a61d33c9",
   "metadata": {},
   "outputs": [
    {
     "name": "stdout",
     "output_type": "stream",
     "text": [
      "Time taken for A: 0.025089025497436523\n",
      "Time taken for B: 0.026215314865112305\n"
     ]
    }
   ],
   "source": [
    "import time\n",
    "\n",
    "class compare():\n",
    "    def __init__(self, funcA, funcB, ntest=10000):\n",
    "        self.funcA = funcA\n",
    "        self.funcB = funcB\n",
    "        self.ntest = ntest\n",
    "        \n",
    "    def set_args(self, args):\n",
    "        self.args = args\n",
    "        \n",
    "    def run(self):\n",
    "        start_time = time.time()\n",
    "        for i in range(self.ntest):\n",
    "            _ = self.funcA(*self.args)\n",
    "        self.resA = time.time() - start_time\n",
    "        start_time = time.time()\n",
    "        for i in range(self.ntest):\n",
    "            _ = self.funcB(*self.args)\n",
    "        self.resB = time.time() - start_time\n",
    "        \n",
    "    def __call__(self):\n",
    "        self.run()\n",
    "        print(f'Time taken for A: {self.resA}')\n",
    "        print(f'Time taken for B: {self.resB}')\n",
    "        \n",
    "        \n",
    "neet = Neet()\n",
    "funcA = neet.isValid\n",
    "sol = Solution()\n",
    "funcB = sol.isValid\n",
    "comp = compare(funcA, funcB)\n",
    "comp.set_args(['(){}[]()'])\n",
    "comp()"
   ]
  },
  {
   "cell_type": "markdown",
   "id": "9ca7780d",
   "metadata": {},
   "source": [
    "Whoop!  My code is only very slighty slower. "
   ]
  },
  {
   "cell_type": "code",
   "execution_count": 43,
   "id": "9f506c70",
   "metadata": {},
   "outputs": [
    {
     "name": "stdout",
     "output_type": "stream",
     "text": [
      "Time taken for A: 0.02725505828857422\n",
      "Time taken for B: 0.029851913452148438\n"
     ]
    }
   ],
   "source": [
    "comp = compare(funcA, funcB)\n",
    "comp.set_args(['(){}[]()}'])\n",
    "comp()"
   ]
  },
  {
   "cell_type": "markdown",
   "id": "e3da5c24",
   "metadata": {},
   "source": [
    "## Learning outcomes\n",
    "\n",
    "I used a stack and my code (all be it far less elegant) was very nearly as fast as the Neet code solution. \n",
    "\n",
    "I'm also pretty happy with my boilerplate code (functionally rather than asthestically)a nd this is making things easier."
   ]
  },
  {
   "cell_type": "code",
   "execution_count": null,
   "id": "f3a3a72b",
   "metadata": {},
   "outputs": [],
   "source": []
  }
 ],
 "metadata": {
  "kernelspec": {
   "display_name": "Python 3 (ipykernel)",
   "language": "python",
   "name": "python3"
  },
  "language_info": {
   "codemirror_mode": {
    "name": "ipython",
    "version": 3
   },
   "file_extension": ".py",
   "mimetype": "text/x-python",
   "name": "python",
   "nbconvert_exporter": "python",
   "pygments_lexer": "ipython3",
   "version": "3.9.6"
  }
 },
 "nbformat": 4,
 "nbformat_minor": 5
}
