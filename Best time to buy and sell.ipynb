{
 "cells": [
  {
   "cell_type": "markdown",
   "id": "78df1c8a",
   "metadata": {},
   "source": [
    "# Best time to buy and sell\n",
    "\n",
    "You are given an array of prices, where prices[i] is the pice of a given stock on the ith day. \n",
    "\n",
    "You want to maximise your profit by choosing a single day to buy one stock and choosing a different day in the future to sell stock. \n",
    "\n",
    "Return the maximum profit you can achieve from this transaction.  If you cannot achieve any profit, return 0. \n",
    "\n",
    "## Learning objectives\n",
    "\n",
    "Here the objective is to start to write better and faster code.  Let's focus on ground up design that gives up the best chance. \n"
   ]
  },
  {
   "cell_type": "code",
   "execution_count": 19,
   "id": "ff022684",
   "metadata": {},
   "outputs": [],
   "source": [
    "class Solution:\n",
    "    def maxProfit(self, prices: list[int]) -> int:\n",
    "        mp = 0\n",
    "        for idx, buy in enumerate(prices[:-1]):\n",
    "            mp = max(mp, max([n - prices[idx] for n in prices[idx + 1:]]))\n",
    "        return mp"
   ]
  },
  {
   "cell_type": "code",
   "execution_count": 20,
   "id": "5f9548eb",
   "metadata": {},
   "outputs": [
    {
     "name": "stderr",
     "output_type": "stream",
     "text": [
      "testExample1 (__main__.TestMAxProfit) ... ok\n",
      "testExample2 (__main__.TestMAxProfit) ... ok\n",
      "testExample3 (__main__.TestMAxProfit) ... ok\n",
      "\n",
      "----------------------------------------------------------------------\n",
      "Ran 3 tests in 0.003s\n",
      "\n",
      "OK\n"
     ]
    },
    {
     "data": {
      "text/plain": [
       "<unittest.main.TestProgram at 0x10556d070>"
      ]
     },
     "execution_count": 20,
     "metadata": {},
     "output_type": "execute_result"
    }
   ],
   "source": [
    "import unittest\n",
    "\n",
    "class TestMAxProfit(unittest.TestCase):\n",
    "\n",
    "    def testExample1(self):\n",
    "        prices = [7, 1, 5, 3, 6, 4]\n",
    "        self.assertEqual(func(prices), 5)\n",
    "\n",
    "    def testExample2(self):\n",
    "        prices = [7, 6, 5, 3, 2, 1]\n",
    "        self.assertEqual(func(prices), 0)\n",
    "        \n",
    "    def testExample3(self):\n",
    "        prices = [1, 7, 5, 3, 2, 1]\n",
    "        self.assertEqual(func(prices), 6)\n",
    "        \n",
    "        \n",
    "sol = Solution()\n",
    "func = sol.maxProfit\n",
    "unittest.main(argv=[''], verbosity=2, exit=False)"
   ]
  },
  {
   "cell_type": "markdown",
   "id": "189be1f1",
   "metadata": {},
   "source": [
    "Now let's compare this to the neetcode.io solution."
   ]
  },
  {
   "cell_type": "code",
   "execution_count": 24,
   "id": "d2e3834f",
   "metadata": {},
   "outputs": [],
   "source": [
    "class Neet:\n",
    "    def maxProfit(self, prices: list[int]) -> int:\n",
    "        res = 0\n",
    "        \n",
    "        l=0\n",
    "        for r in range(1, len(prices)):\n",
    "            if prices[r] < prices[l]:\n",
    "                l = r\n",
    "            res = max(res, prices[r] - prices[l])\n",
    "        return res"
   ]
  },
  {
   "cell_type": "code",
   "execution_count": 25,
   "id": "e9fd4e6b",
   "metadata": {},
   "outputs": [
    {
     "name": "stderr",
     "output_type": "stream",
     "text": [
      "testExample1 (__main__.TestMAxProfit) ... ok\n",
      "testExample2 (__main__.TestMAxProfit) ... ok\n",
      "testExample3 (__main__.TestMAxProfit) ... ok\n",
      "\n",
      "----------------------------------------------------------------------\n",
      "Ran 3 tests in 0.003s\n",
      "\n",
      "OK\n"
     ]
    },
    {
     "data": {
      "text/plain": [
       "<unittest.main.TestProgram at 0x10550fca0>"
      ]
     },
     "execution_count": 25,
     "metadata": {},
     "output_type": "execute_result"
    }
   ],
   "source": [
    "sol = Neet()\n",
    "func = sol.maxProfit\n",
    "unittest.main(argv=[''], verbosity=2, exit=False)"
   ]
  },
  {
   "cell_type": "code",
   "execution_count": 32,
   "id": "a69eb6b5",
   "metadata": {},
   "outputs": [
    {
     "name": "stdout",
     "output_type": "stream",
     "text": [
      "Time taken for A: 0.02845311164855957\n",
      "Time taken for B: 0.05371809005737305\n"
     ]
    }
   ],
   "source": [
    "import time\n",
    "\n",
    "class compare():\n",
    "    def __init__(self, funcA, funcB, ntest=10000):\n",
    "        self.funcA = funcA\n",
    "        self.funcB = funcB\n",
    "        self.ntest = ntest\n",
    "        \n",
    "    def set_args(self, args):\n",
    "        self.args = args\n",
    "        \n",
    "    def run(self):\n",
    "        start_time = time.time()\n",
    "        for i in range(self.ntest):\n",
    "            _ = self.funcA(*self.args)\n",
    "        self.resA = time.time() - start_time\n",
    "        start_time = time.time()\n",
    "        for i in range(self.ntest):\n",
    "            _ = self.funcB(*self.args)\n",
    "        self.resB = time.time() - start_time\n",
    "        \n",
    "    def __call__(self):\n",
    "        self.run()\n",
    "        print(f'Time taken for A: {self.resA}')\n",
    "        print(f'Time taken for B: {self.resB}')\n",
    "        \n",
    "        \n",
    "neet = Neet()\n",
    "funcA = neet.maxProfit\n",
    "sol = Solution()\n",
    "funcB = sol.maxProfit\n",
    "comp = compare(funcA, funcB)\n",
    "comp.set_args([[1,7,4,7,4,6,3,4]])\n",
    "comp()"
   ]
  },
  {
   "cell_type": "code",
   "execution_count": 34,
   "id": "38e4fb15",
   "metadata": {},
   "outputs": [
    {
     "name": "stdout",
     "output_type": "stream",
     "text": [
      "Time taken for A: 0.008027791976928711\n",
      "Time taken for B: 0.011162281036376953\n"
     ]
    }
   ],
   "source": [
    "comp.set_args([range(10, 1, 1)])\n",
    "comp()"
   ]
  },
  {
   "cell_type": "code",
   "execution_count": 35,
   "id": "f6333ff2",
   "metadata": {},
   "outputs": [
    {
     "name": "stdout",
     "output_type": "stream",
     "text": [
      "Time taken for A: 0.06082892417907715\n",
      "Time taken for B: 0.0785677433013916\n"
     ]
    }
   ],
   "source": [
    "comp.set_args([range(10)])\n",
    "comp()"
   ]
  },
  {
   "cell_type": "markdown",
   "id": "71433df2",
   "metadata": {},
   "source": [
    "OK - so I'l still much slower here.  This is another interesting problem.  By having the single loop and only evaluating the max function for a smaller number of possibilities it is much quicker. "
   ]
  },
  {
   "cell_type": "markdown",
   "id": "9f9ac9be",
   "metadata": {},
   "source": [
    "## Learning outcomes\n",
    "\n",
    "Still writing slower code.  I see what the 'trick' is here. \n",
    "\n",
    "Improvement - (crappy) boilerplate class for testing the speed.  Which should be fine considering how specific the timings are to the problem. \n",
    "\n",
    "I guess I am starting to think about this better.  Could do with drawing this stuff up on a whiteboard before starting. "
   ]
  },
  {
   "cell_type": "code",
   "execution_count": null,
   "id": "6e2758f3",
   "metadata": {},
   "outputs": [],
   "source": []
  }
 ],
 "metadata": {
  "kernelspec": {
   "display_name": "Python 3 (ipykernel)",
   "language": "python",
   "name": "python3"
  },
  "language_info": {
   "codemirror_mode": {
    "name": "ipython",
    "version": 3
   },
   "file_extension": ".py",
   "mimetype": "text/x-python",
   "name": "python",
   "nbconvert_exporter": "python",
   "pygments_lexer": "ipython3",
   "version": "3.9.6"
  }
 },
 "nbformat": 4,
 "nbformat_minor": 5
}
