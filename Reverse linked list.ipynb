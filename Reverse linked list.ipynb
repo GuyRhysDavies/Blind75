{
 "cells": [
  {
   "cell_type": "markdown",
   "id": "f2223eda",
   "metadata": {},
   "source": [
    "# Reverse linked list\n",
    "\n",
    "Given the head of a singly linked list, reverse the list, and return the reversed list. \n",
    "\n",
    "## Learning objectives \n",
    "\n",
    "Learn what a linked list is.  \n",
    "\n",
    "There's not much to go on here.  Is it more complcated than head[::-1]?"
   ]
  },
  {
   "cell_type": "code",
   "execution_count": 18,
   "id": "85174438",
   "metadata": {},
   "outputs": [],
   "source": [
    "class ListNode:\n",
    "    def __init__(self, val=0, next=None):\n",
    "        self.val = val\n",
    "        self.next = next\n",
    "        \n",
    "class Solution:\n",
    "    def reverseList(self, head: ListNode) -> ListNode:\n",
    "        head.val = head.val[::-1]\n",
    "        return head"
   ]
  },
  {
   "cell_type": "code",
   "execution_count": 19,
   "id": "29580894",
   "metadata": {},
   "outputs": [
    {
     "data": {
      "text/plain": [
       "<__main__.ListNode at 0x106301b50>"
      ]
     },
     "execution_count": 19,
     "metadata": {},
     "output_type": "execute_result"
    }
   ],
   "source": [
    "head = ListNode([1,2,3,4,5])\n",
    "sol = Solution()\n",
    "sol.reverseList(head)"
   ]
  },
  {
   "cell_type": "code",
   "execution_count": 20,
   "id": "8be3c464",
   "metadata": {},
   "outputs": [
    {
     "name": "stderr",
     "output_type": "stream",
     "text": [
      "testExample1 (__main__.TestMAxProfit) ... ok\n",
      "testExample2 (__main__.TestMAxProfit) ... ok\n",
      "testExample3 (__main__.TestMAxProfit) ... ok\n",
      "\n",
      "----------------------------------------------------------------------\n",
      "Ran 3 tests in 0.002s\n",
      "\n",
      "OK\n"
     ]
    },
    {
     "data": {
      "text/plain": [
       "<unittest.main.TestProgram at 0x1063068b0>"
      ]
     },
     "execution_count": 20,
     "metadata": {},
     "output_type": "execute_result"
    }
   ],
   "source": [
    "import unittest\n",
    "\n",
    "class TestMAxProfit(unittest.TestCase):\n",
    "\n",
    "    def testExample1(self):\n",
    "        head = ListNode([1,2,3,4,5])\n",
    "        self.assertEqual(func(head).val, [5,4,3,2,1])\n",
    "\n",
    "    def testExample2(self):\n",
    "        head = ListNode([1,2])\n",
    "        self.assertEqual(func(head).val, [2,1])\n",
    "        \n",
    "    def testExample3(self):\n",
    "        head = ListNode([])\n",
    "        self.assertEqual(func(head).val, [])\n",
    "        \n",
    "        \n",
    "sol = Solution()\n",
    "func = sol.reverseList\n",
    "unittest.main(argv=[''], verbosity=2, exit=False)"
   ]
  },
  {
   "cell_type": "markdown",
   "id": "f6efd290",
   "metadata": {},
   "source": [
    "Yeah - I don't get it.  Here is the Neetcode.io solution ... "
   ]
  },
  {
   "cell_type": "code",
   "execution_count": 21,
   "id": "ffde3015",
   "metadata": {},
   "outputs": [],
   "source": [
    "class Neet:\n",
    "    def reverseList(self, head: ListNode) -> ListNode:\n",
    "        prev, curr = None, head\n",
    "        \n",
    "        while curr:\n",
    "            temp = curr.next\n",
    "            curr.next = prev\n",
    "            prev = curr\n",
    "            curr = temp\n",
    "        return prev"
   ]
  },
  {
   "cell_type": "code",
   "execution_count": 22,
   "id": "2872a474",
   "metadata": {},
   "outputs": [
    {
     "name": "stderr",
     "output_type": "stream",
     "text": [
      "testExample1 (__main__.TestMAxProfit) ... FAIL\n",
      "testExample2 (__main__.TestMAxProfit) ... FAIL\n",
      "testExample3 (__main__.TestMAxProfit) ... ok\n",
      "\n",
      "======================================================================\n",
      "FAIL: testExample1 (__main__.TestMAxProfit)\n",
      "----------------------------------------------------------------------\n",
      "Traceback (most recent call last):\n",
      "  File \"/var/folders/40/rzn221yn44nfyyt3kcv2xrcr0000gq/T/ipykernel_98991/393728286.py\", line 7, in testExample1\n",
      "    self.assertEqual(func(head).val, [5,4,3,2,1])\n",
      "AssertionError: Lists differ: [1, 2, 3, 4, 5] != [5, 4, 3, 2, 1]\n",
      "\n",
      "First differing element 0:\n",
      "1\n",
      "5\n",
      "\n",
      "- [1, 2, 3, 4, 5]\n",
      "+ [5, 4, 3, 2, 1]\n",
      "\n",
      "======================================================================\n",
      "FAIL: testExample2 (__main__.TestMAxProfit)\n",
      "----------------------------------------------------------------------\n",
      "Traceback (most recent call last):\n",
      "  File \"/var/folders/40/rzn221yn44nfyyt3kcv2xrcr0000gq/T/ipykernel_98991/393728286.py\", line 11, in testExample2\n",
      "    self.assertEqual(func(head).val, [2,1])\n",
      "AssertionError: Lists differ: [1, 2] != [2, 1]\n",
      "\n",
      "First differing element 0:\n",
      "1\n",
      "2\n",
      "\n",
      "- [1, 2]\n",
      "+ [2, 1]\n",
      "\n",
      "----------------------------------------------------------------------\n",
      "Ran 3 tests in 0.003s\n",
      "\n",
      "FAILED (failures=2)\n"
     ]
    },
    {
     "data": {
      "text/plain": [
       "<unittest.main.TestProgram at 0x1063d5e80>"
      ]
     },
     "execution_count": 22,
     "metadata": {},
     "output_type": "execute_result"
    }
   ],
   "source": [
    "sol = Neet()\n",
    "func = sol.reverseList\n",
    "unittest.main(argv=[''], verbosity=2, exit=False)"
   ]
  },
  {
   "cell_type": "code",
   "execution_count": 26,
   "id": "efbd9e3d",
   "metadata": {},
   "outputs": [
    {
     "name": "stdout",
     "output_type": "stream",
     "text": [
      "Time taken for A: 0.006422758102416992\n",
      "Time taken for B: 0.00570225715637207\n"
     ]
    }
   ],
   "source": [
    "import time\n",
    "\n",
    "class compare():\n",
    "    def __init__(self, funcA, funcB, ntest=10000):\n",
    "        self.funcA = funcA\n",
    "        self.funcB = funcB\n",
    "        self.ntest = ntest\n",
    "        \n",
    "    def set_args(self, args):\n",
    "        self.args = args\n",
    "        \n",
    "    def run(self):\n",
    "        start_time = time.time()\n",
    "        for i in range(self.ntest):\n",
    "            _ = self.funcA(*self.args)\n",
    "        self.resA = time.time() - start_time\n",
    "        start_time = time.time()\n",
    "        for i in range(self.ntest):\n",
    "            _ = self.funcB(*self.args)\n",
    "        self.resB = time.time() - start_time\n",
    "        \n",
    "    def __call__(self):\n",
    "        self.run()\n",
    "        print(f'Time taken for A: {self.resA}')\n",
    "        print(f'Time taken for B: {self.resB}')\n",
    "        \n",
    "        \n",
    "neet = Neet()\n",
    "funcA = neet.reverseList\n",
    "sol = Solution()\n",
    "funcB = sol.reverseList\n",
    "comp = compare(funcA, funcB)\n",
    "comp.set_args( [ListNode([1,2,3,4,5])])\n",
    "comp()"
   ]
  },
  {
   "cell_type": "markdown",
   "id": "f9ff4652",
   "metadata": {},
   "source": [
    "## Learning objectives\n",
    "\n",
    "I guess I am cheating by using the [::-1] as it is not a method of the ListNode class.  Turns out it's faster though.  I thik this is where my numerical experience of really wanting to use builtin functions for speed is in contrast to what the Blind75 are trying to test.\n",
    "\n",
    "Am I really learning anything any more?\n",
    "\n",
    "Perhaps the more difficult examples will be more useful?  "
   ]
  },
  {
   "cell_type": "code",
   "execution_count": null,
   "id": "d0433c3c",
   "metadata": {},
   "outputs": [],
   "source": []
  }
 ],
 "metadata": {
  "kernelspec": {
   "display_name": "Python 3 (ipykernel)",
   "language": "python",
   "name": "python3"
  },
  "language_info": {
   "codemirror_mode": {
    "name": "ipython",
    "version": 3
   },
   "file_extension": ".py",
   "mimetype": "text/x-python",
   "name": "python",
   "nbconvert_exporter": "python",
   "pygments_lexer": "ipython3",
   "version": "3.9.6"
  }
 },
 "nbformat": 4,
 "nbformat_minor": 5
}
