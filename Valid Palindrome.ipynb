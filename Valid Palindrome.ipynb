{
 "cells": [
  {
   "cell_type": "markdown",
   "id": "2fbd0231",
   "metadata": {},
   "source": [
    "# Valid palindrome\n",
    "\n",
    "Given a string s, return true if it is a palindrome, or false otherwise. \n",
    "\n",
    "Note, convert to lowercase and remove all non-alphanumerics.\n",
    "\n",
    "Leetcode.com gives some examples so we'll use them as unit tests. Some contraints are given as well but we'll see if we need them.\n",
    "\n",
    "## Learning objectives\n",
    "\n",
    "Would it be good to have a solutions class of my own?  Let's find out. "
   ]
  },
  {
   "cell_type": "code",
   "execution_count": 55,
   "id": "72b0286d",
   "metadata": {},
   "outputs": [],
   "source": [
    "class Solution:\n",
    "    def isPalindrome(self, s: str) -> bool:\n",
    "        t = ''.join(ch for ch in s if ch.isalnum()).lower()\n",
    "        l = int(len(t) * 0.5 // 1)\n",
    "        return t[:l] == t[-l:][::-1]"
   ]
  },
  {
   "cell_type": "markdown",
   "id": "6703835e",
   "metadata": {},
   "source": [
    "## Setup the unit tests.\n",
    "\n",
    "Notes: \n",
    "\n",
    "Worry about non-alpha numerics! "
   ]
  },
  {
   "cell_type": "code",
   "execution_count": 77,
   "id": "da0dd52d",
   "metadata": {},
   "outputs": [
    {
     "name": "stderr",
     "output_type": "stream",
     "text": [
      "testExample1 (__main__.TestTwoSum) ... ok\n",
      "testExample2 (__main__.TestTwoSum) ... ok\n",
      "testExample3 (__main__.TestTwoSum) ... ok\n",
      "testExample4 (__main__.TestTwoSum) ... ok\n",
      "testExample5 (__main__.TestTwoSum) ... ok\n",
      "\n",
      "----------------------------------------------------------------------\n",
      "Ran 5 tests in 0.005s\n",
      "\n",
      "OK\n"
     ]
    },
    {
     "data": {
      "text/plain": [
       "<unittest.main.TestProgram at 0x104834160>"
      ]
     },
     "execution_count": 77,
     "metadata": {},
     "output_type": "execute_result"
    }
   ],
   "source": [
    "import unittest\n",
    "\n",
    "class TestTwoSum(unittest.TestCase):\n",
    "\n",
    "    def testExample1(self):\n",
    "        s = 'abcde'\n",
    "        self.assertEqual(func(s), False)\n",
    "\n",
    "    def testExample2(self):\n",
    "        s = 'race a car'\n",
    "        self.assertEqual(func(s), False)\n",
    "        \n",
    "    def testExample3(self):\n",
    "        s = 'A man, a plan, a canal: Panama'\n",
    "        self.assertEqual(func(s), True)\n",
    "        \n",
    "    def testExample4(self):\n",
    "        s = ' '\n",
    "        self.assertEqual(func(s), True)\n",
    "        \n",
    "    def testExample5(self):\n",
    "        s = '%£$%^&^%$£'\n",
    "        self.assertEqual(func(s), True)\n",
    "        \n",
    "sol = Solution()\n",
    "func = sol.isPalindrome\n",
    "unittest.main(argv=[''], verbosity=2, exit=False)"
   ]
  },
  {
   "cell_type": "code",
   "execution_count": 78,
   "id": "7e0d0a0f",
   "metadata": {},
   "outputs": [
    {
     "name": "stdout",
     "output_type": "stream",
     "text": [
      "1.98 µs ± 1.15 ns per loop (mean ± std. dev. of 7 runs, 100,000 loops each)\n"
     ]
    }
   ],
   "source": [
    "%%timeit\n",
    "sol.isPalindrome('A man, a plan, a canal: Panama')"
   ]
  },
  {
   "cell_type": "markdown",
   "id": "b62d4ddc",
   "metadata": {},
   "source": [
    "Now let's compare this to the neetcode.io solution."
   ]
  },
  {
   "cell_type": "code",
   "execution_count": 72,
   "id": "8b0825db",
   "metadata": {},
   "outputs": [],
   "source": [
    "class Neet:\n",
    "    def isPalindrome(self, s: str) -> bool:\n",
    "        l, r = 0, len(s) - 1\n",
    "        while l < r:\n",
    "            while l < r and not self.alphanum(s[l]):\n",
    "                l += 1\n",
    "            while l < r and not self.alphanum(s[r]):\n",
    "                r -= 1\n",
    "            if s[l].lower() != s[r].lower():\n",
    "                return False\n",
    "            l += 1\n",
    "            r -= 1\n",
    "        return True\n",
    "    \n",
    "    def alphanum(self, c):\n",
    "        return (\n",
    "            ord('A') <= ord(c) <= ord('Z') \n",
    "            or ord('a') <= ord(c) <= ord('z')\n",
    "            or ord('0') <= ord(c) <= ord('9') \n",
    "        )"
   ]
  },
  {
   "cell_type": "code",
   "execution_count": 73,
   "id": "812aa479",
   "metadata": {},
   "outputs": [
    {
     "name": "stderr",
     "output_type": "stream",
     "text": [
      "testExample1 (__main__.TestTwoSum) ... ok\n",
      "testExample2 (__main__.TestTwoSum) ... ok\n",
      "testExample3 (__main__.TestTwoSum) ... ok\n",
      "testExample4 (__main__.TestTwoSum) ... ok\n",
      "testExample5 (__main__.TestTwoSum) ... ok\n",
      "\n",
      "----------------------------------------------------------------------\n",
      "Ran 5 tests in 0.004s\n",
      "\n",
      "OK\n"
     ]
    },
    {
     "data": {
      "text/plain": [
       "<unittest.main.TestProgram at 0x10484a8e0>"
      ]
     },
     "execution_count": 73,
     "metadata": {},
     "output_type": "execute_result"
    }
   ],
   "source": [
    "sol = Neet()\n",
    "func = sol.isPalindrome\n",
    "unittest.main(argv=[''], verbosity=2, exit=False)"
   ]
  },
  {
   "cell_type": "code",
   "execution_count": 75,
   "id": "0bb2b813",
   "metadata": {},
   "outputs": [
    {
     "name": "stdout",
     "output_type": "stream",
     "text": [
      "583 ns ± 2.91 ns per loop (mean ± std. dev. of 7 runs, 1,000,000 loops each)\n"
     ]
    }
   ],
   "source": [
    "%%timeit\n",
    "sol.isPalindrome('A man, a plan, a canal: Panama')"
   ]
  },
  {
   "cell_type": "markdown",
   "id": "3fe03954",
   "metadata": {},
   "source": [
    "So, my solution is faster in this use case.  I could be wrong but it looks more elegant to me.  Here is an example where the neet code is faster ... "
   ]
  },
  {
   "cell_type": "code",
   "execution_count": 81,
   "id": "02df81de",
   "metadata": {},
   "outputs": [],
   "source": [
    "sol = Solution()"
   ]
  },
  {
   "cell_type": "code",
   "execution_count": 82,
   "id": "139fba19",
   "metadata": {},
   "outputs": [
    {
     "name": "stdout",
     "output_type": "stream",
     "text": [
      "1.97 µs ± 4.87 ns per loop (mean ± std. dev. of 7 runs, 100,000 loops each)\n"
     ]
    }
   ],
   "source": [
    "%%timeit\n",
    "sol.isPalindrome('xA man, a plan, a canal: Panama')"
   ]
  },
  {
   "cell_type": "code",
   "execution_count": 91,
   "id": "2c54170a",
   "metadata": {},
   "outputs": [],
   "source": [
    "sol = Neet()"
   ]
  },
  {
   "cell_type": "code",
   "execution_count": 92,
   "id": "a68ee530",
   "metadata": {},
   "outputs": [
    {
     "name": "stdout",
     "output_type": "stream",
     "text": [
      "7.47 µs ± 37.7 ns per loop (mean ± std. dev. of 7 runs, 100,000 loops each)\n"
     ]
    }
   ],
   "source": [
    "%%timeit\n",
    "sol.isPalindrome('xA man, a plan, a canal: Panama')"
   ]
  },
  {
   "cell_type": "markdown",
   "id": "a71fe1c7",
   "metadata": {},
   "source": [
    "I guess the overwhelming use case is one where the palindrome condition fails on the first and last letter, leaving the Neet code to be much faster than mine.  I guess there is a simple fix, which is to loop over range l and look for failure.  \n",
    "\n",
    "## Leanring outcomes\n",
    "\n",
    "In this pass or fail regime, it's probably best to fail fast and pass slow.  That's probably a lesson i should have learnt last time, instead of valuing 'elegance'. \n",
    "\n",
    "I think generic benchmarking is not going to be useful, because it looks like it is important to understand the examples being considered.  So no overarching class with benchmarking etc. A low overhead class is mildly useful, if challenged a bit by notebooks ability to run out of order. "
   ]
  },
  {
   "cell_type": "code",
   "execution_count": 96,
   "id": "28c40f80",
   "metadata": {},
   "outputs": [],
   "source": [
    "class Faster:\n",
    "    def isPalindrome(self, s: str) -> bool:\n",
    "        t = ''.join(ch for ch in s if ch.isalnum()).lower()\n",
    "        l = int(len(t) * 0.5 // 1)\n",
    "        for i in range(l):\n",
    "            if t[i] != t[-1 -i]:\n",
    "                return False\n",
    "        return True"
   ]
  },
  {
   "cell_type": "code",
   "execution_count": 97,
   "id": "f9392e5b",
   "metadata": {},
   "outputs": [
    {
     "name": "stderr",
     "output_type": "stream",
     "text": [
      "testExample1 (__main__.TestTwoSum) ... ok\n",
      "testExample2 (__main__.TestTwoSum) ... ok\n",
      "testExample3 (__main__.TestTwoSum) ... ok\n",
      "testExample4 (__main__.TestTwoSum) ... ok\n",
      "testExample5 (__main__.TestTwoSum) ... ok\n",
      "\n",
      "----------------------------------------------------------------------\n",
      "Ran 5 tests in 0.004s\n",
      "\n",
      "OK\n"
     ]
    },
    {
     "data": {
      "text/plain": [
       "<unittest.main.TestProgram at 0x10484a5b0>"
      ]
     },
     "execution_count": 97,
     "metadata": {},
     "output_type": "execute_result"
    }
   ],
   "source": [
    "sol = Faster()\n",
    "func = sol.isPalindrome\n",
    "unittest.main(argv=[''], verbosity=2, exit=False)"
   ]
  },
  {
   "cell_type": "code",
   "execution_count": 99,
   "id": "9b6c56a4",
   "metadata": {},
   "outputs": [
    {
     "name": "stdout",
     "output_type": "stream",
     "text": [
      "1.97 µs ± 3.74 ns per loop (mean ± std. dev. of 7 runs, 100,000 loops each)\n"
     ]
    }
   ],
   "source": [
    "%%timeit\n",
    "sol.isPalindrome('xA man, a plan, a canal: Panama')"
   ]
  },
  {
   "cell_type": "markdown",
   "id": "24239a80",
   "metadata": {},
   "source": [
    "Which is not faster at all. I guess the overhead is all in the isanum and the lower which are not neccessary if the palindrome fails on the first/last char.\n",
    "\n",
    "This is simulataneously interesting (I hadn't really thought about this stuff) but I think largely useless to me in numerical programing.  It is worth thinking about in the context of MCMC chains or optimisation.  Could a step be rejected by looping over the likelihood points and rejecting at the earliest possible oportunity? I guess not in most cases but perhaps there is a specific use. "
   ]
  },
  {
   "cell_type": "code",
   "execution_count": null,
   "id": "414103ea",
   "metadata": {},
   "outputs": [],
   "source": []
  }
 ],
 "metadata": {
  "kernelspec": {
   "display_name": "Python 3 (ipykernel)",
   "language": "python",
   "name": "python3"
  },
  "language_info": {
   "codemirror_mode": {
    "name": "ipython",
    "version": 3
   },
   "file_extension": ".py",
   "mimetype": "text/x-python",
   "name": "python",
   "nbconvert_exporter": "python",
   "pygments_lexer": "ipython3",
   "version": "3.9.6"
  }
 },
 "nbformat": 4,
 "nbformat_minor": 5
}
