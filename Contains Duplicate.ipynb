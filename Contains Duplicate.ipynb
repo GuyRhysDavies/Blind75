{
 "cells": [
  {
   "cell_type": "markdown",
   "id": "6d412f29",
   "metadata": {},
   "source": [
    "# Contains Duplicate\n",
    "\n",
    "Given an integer array nums, return true if any value appears at least twice in the array, and return false if every element is distinct. \n",
    "\n",
    "Leetcode.com gives some examples so we'll use them as unit tests.  Some contraints are given ss well but we'll see if we need them. \n",
    "\n",
    "## Learning objective\n",
    "\n",
    "See how this all works and setup some boiler plate to be used in other tasks. \n",
    "\n",
    "### Setup a function ... \n",
    "\n",
    "Lesson #1 : Leetcode function gives typed variable nums as List[int] and 3.9.6 doesn't like this.  Need to upgrade python? No, from >=3.9 can use list type. \n"
   ]
  },
  {
   "cell_type": "code",
   "execution_count": 18,
   "id": "e25a2fce",
   "metadata": {},
   "outputs": [],
   "source": [
    "def containsDuplicate(nums: list[int]) -> bool:\n",
    "    for idx, v in enumerate(nums):\n",
    "        if v in nums[idx+1:]:\n",
    "            return True\n",
    "    \n",
    "    return False"
   ]
  },
  {
   "cell_type": "code",
   "execution_count": 20,
   "id": "4a525e76",
   "metadata": {},
   "outputs": [
    {
     "name": "stderr",
     "output_type": "stream",
     "text": [
      "testExample1 (__main__.TestContainsDuplicate) ... ok\n",
      "testExample2 (__main__.TestContainsDuplicate) ... ok\n",
      "testExample3 (__main__.TestContainsDuplicate) ... ok\n",
      "\n",
      "----------------------------------------------------------------------\n",
      "Ran 3 tests in 0.002s\n",
      "\n",
      "OK\n"
     ]
    },
    {
     "data": {
      "text/plain": [
       "<unittest.main.TestProgram at 0x104a6cc10>"
      ]
     },
     "execution_count": 20,
     "metadata": {},
     "output_type": "execute_result"
    }
   ],
   "source": [
    "import unittest\n",
    "\n",
    "class TestContainsDuplicate(unittest.TestCase):\n",
    "\n",
    "    def testExample1(self):\n",
    "        self.assertEqual(containsDuplicate([1,2,3,1]), True)\n",
    "\n",
    "    def testExample2(self):\n",
    "        self.assertEqual(containsDuplicate([1,2,3,4]), False)\n",
    "        \n",
    "    def testExample3(self):\n",
    "        self.assertEqual(containsDuplicate([1,1,1,3,3,4,3,2,4,2]), True)\n",
    "    \n",
    "unittest.main(argv=[''], verbosity=2, exit=False)"
   ]
  },
  {
   "cell_type": "markdown",
   "id": "b4f92c14",
   "metadata": {},
   "source": [
    "So that works (at least against the three test cases). \n",
    "\n",
    "Let's compare this to the solution in neetcode.io. "
   ]
  },
  {
   "cell_type": "code",
   "execution_count": 28,
   "id": "6cea7cfc",
   "metadata": {},
   "outputs": [],
   "source": [
    "def cD_neet(nums: list[int]) -> bool:\n",
    "    hashset = set()\n",
    "\n",
    "    for n in nums:\n",
    "        if n in hashset:\n",
    "            return True\n",
    "        hashset.add(n)\n",
    "    return False"
   ]
  },
  {
   "cell_type": "code",
   "execution_count": 23,
   "id": "3a69b02e",
   "metadata": {},
   "outputs": [
    {
     "name": "stdout",
     "output_type": "stream",
     "text": [
      "229 ns ± 1.02 ns per loop (mean ± std. dev. of 7 runs, 1,000,000 loops each)\n"
     ]
    }
   ],
   "source": [
    "%%timeit\n",
    "containsDuplicate([1,1,1,3,3,4,3,2,4,2])"
   ]
  },
  {
   "cell_type": "code",
   "execution_count": 25,
   "id": "a00e652a",
   "metadata": {},
   "outputs": [
    {
     "name": "stdout",
     "output_type": "stream",
     "text": [
      "439 ns ± 5.83 ns per loop (mean ± std. dev. of 7 runs, 1,000,000 loops each)\n"
     ]
    }
   ],
   "source": [
    "%%timeit\n",
    "containsDuplicate([1,2,3,4])"
   ]
  },
  {
   "cell_type": "code",
   "execution_count": 24,
   "id": "400df85d",
   "metadata": {},
   "outputs": [
    {
     "name": "stdout",
     "output_type": "stream",
     "text": [
      "185 ns ± 2.91 ns per loop (mean ± std. dev. of 7 runs, 10,000,000 loops each)\n"
     ]
    }
   ],
   "source": [
    "%%timeit\n",
    "cD_neet([1,1,1,3,3,4,3,2,4,2])"
   ]
  },
  {
   "cell_type": "code",
   "execution_count": 26,
   "id": "b84e094c",
   "metadata": {},
   "outputs": [
    {
     "name": "stdout",
     "output_type": "stream",
     "text": [
      "297 ns ± 20.3 ns per loop (mean ± std. dev. of 7 runs, 1,000,000 loops each)\n"
     ]
    }
   ],
   "source": [
    "%%timeit\n",
    "cD_neet([1,2,3,4])"
   ]
  },
  {
   "cell_type": "markdown",
   "id": "f9f69053",
   "metadata": {},
   "source": [
    "OK - so the neetcode.io solution is much faster.  Why?  Is it because the hashset is shorter the list when applying the in operator - No, at least not for the False cases.  Maybe this is just something that software engineers know.\n",
    "\n",
    "Let's see if chaging to a list has any impact..."
   ]
  },
  {
   "cell_type": "code",
   "execution_count": 32,
   "id": "9119b9f1",
   "metadata": {},
   "outputs": [],
   "source": [
    "def cD_neet_list(nums: list[int]) -> bool:\n",
    "    hashset = list()\n",
    "\n",
    "    for n in nums:\n",
    "        if n in hashset:\n",
    "            return True\n",
    "        hashset.append(n)\n",
    "    return False"
   ]
  },
  {
   "cell_type": "code",
   "execution_count": 33,
   "id": "f2eaece4",
   "metadata": {},
   "outputs": [
    {
     "name": "stdout",
     "output_type": "stream",
     "text": [
      "173 ns ± 1.43 ns per loop (mean ± std. dev. of 7 runs, 10,000,000 loops each)\n"
     ]
    }
   ],
   "source": [
    "%%timeit\n",
    "cD_neet_list([1,1,1,3,3,4,3,2,4,2])"
   ]
  },
  {
   "cell_type": "code",
   "execution_count": 35,
   "id": "b9af1239",
   "metadata": {},
   "outputs": [
    {
     "name": "stdout",
     "output_type": "stream",
     "text": [
      "303 ns ± 4.63 ns per loop (mean ± std. dev. of 7 runs, 1,000,000 loops each)\n"
     ]
    }
   ],
   "source": [
    "%%timeit\n",
    "cD_neet_list([1,2,3,4])"
   ]
  },
  {
   "cell_type": "markdown",
   "id": "d164d5d0",
   "metadata": {},
   "source": [
    "OK - so that possibly makes things faster in some use cases.  I guess i could set up some profiling but I'm not sure I'm that fussed.  Maybe we'll cycle back to that."
   ]
  },
  {
   "cell_type": "markdown",
   "id": "c6693e2a",
   "metadata": {},
   "source": [
    "## Learning outcomes: \n",
    "\n",
    "We setup a simple example with some boiler plate code (although I'm sure more can be done).  Certainly using this in other tasks is possible. \n",
    "\n",
    "Bonus outcome:  I have no idea how to optimise this stuff (which is fine) but might be the most important part.  (one assumes most can solve this but doing it fast may be hard)"
   ]
  },
  {
   "cell_type": "code",
   "execution_count": null,
   "id": "663745c3",
   "metadata": {},
   "outputs": [],
   "source": []
  }
 ],
 "metadata": {
  "kernelspec": {
   "display_name": "Python 3 (ipykernel)",
   "language": "python",
   "name": "python3"
  },
  "language_info": {
   "codemirror_mode": {
    "name": "ipython",
    "version": 3
   },
   "file_extension": ".py",
   "mimetype": "text/x-python",
   "name": "python",
   "nbconvert_exporter": "python",
   "pygments_lexer": "ipython3",
   "version": "3.9.6"
  }
 },
 "nbformat": 4,
 "nbformat_minor": 5
}
